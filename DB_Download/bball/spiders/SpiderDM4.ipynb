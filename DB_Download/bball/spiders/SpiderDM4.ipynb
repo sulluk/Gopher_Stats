{
 "metadata": {
  "name": "",
  "signature": "sha256:a037543d8c39ed30eb3c58f57f6952be98dd46836957c0d23202536b0fd79b42"
 },
 "nbformat": 3,
 "nbformat_minor": 0,
 "worksheets": [
  {
   "cells": [
    {
     "cell_type": "code",
     "collapsed": false,
     "input": [
      "from scrapy.contrib.spiders import CrawlSpider, Rule\n",
      "from scrapy.contrib.linkextractors.sgml import SgmlLinkExtractor\n",
      "from scrapy.selector import HtmlXPathSelector\n",
      "from bball.items import BballItem\n",
      "\n",
      "class StatSpider(CrawlSpider):\n",
      "    name = \"dm4\"\n",
      "    allowed_domains = [\"stats.ncaa.org\"]\n",
      "    COOKIES_Enabled = False\n",
      "    #start_urls = [\"http://stats.ncaa.org/player/game_by_game?game_sport_year_ctl_id=11540&stats_player_seq=1511571.0&org_id=428.0&Submit=Submit+Query\"]\n",
      "    start_urls = [\"http://stats.ncaa.org/team/roster/11540?org_id=428\"]\n",
      "    rules = [\n",
      "        Rule(SgmlLinkExtractor(restrict_xpaths=('/html/body/div[2]/div[2]/table/tbody')),follow=True),\n",
      "        Rule(SgmlLinkExtractor(unique=True),callback='parse_item'),\n",
      "    ]\n",
      "\n",
      "    def parse_item(self, response):\n",
      "    #def parse(self, response):\n",
      "        hxs = HtmlXPathSelector(response)\n",
      "        games = hxs.select('//div[@id=\"game_breakdown_div\"]//table[@class=\"mytable\"]//tr')\n",
      "        items = []\n",
      "        for game in games:\n",
      "            item = BballItem()\n",
      "            item['LINK'] = response.url\n",
      "            item['TEAM'] = hxs.select('//div[@id=\"contentArea\"]/h1/text()').extract()\n",
      "            item['NAME'] = hxs.select('//*[@id=\"stats_player_person_id\"]/option[@selected]/text()').extract()\n",
      "            item['POS'] = hxs.select('//*[@id=\"stats_player_person_id\"]/option[@selected]/text()').extract()\n",
      "            item['DATE'] = game.select('./td[1]/text()').extract()\n",
      "            item['OPP'] = game.select('./td[2]/a/text()').extract()\n",
      "            item['WL'] = game.select('./td[3]/a/text()').extract()\n",
      "            item['SCORE'] = game.select('./td[3]/a//text()').extract()\n",
      "            item['MP'] = game.select('./td[4]/div/text()').extract()\n",
      "            item['FGM'] = game.select('./td[5]//div/text()').extract()\n",
      "            item['FGA'] = game.select('./td[6]/div/text()').extract()\n",
      "            item['iiiFG'] = game.select('./td[7]/div/text()').extract()\n",
      "            item['iiiFGA'] = game.select('.//td[8]/div/text()').extract()\n",
      "            item['FT'] = game.select('./td[9]/div/text()').extract()\n",
      "            item['FTA'] = game.select('./td[10]/div/text()').extract()\n",
      "            item['PTS'] = game.select('./td[11]/div/text()').extract()\n",
      "            item['OREB'] = game.select('./td[12]/div/text()').extract()\n",
      "            item['DREB'] = game.select('./td[13]/div/text()').extract()\n",
      "            item['REB'] = game.select('./td[14]/div/text()').extract()\n",
      "            item['AST'] = game.select('./td[15]/div/text()').extract()\n",
      "            item['TO'] = game.select('./td[16]/div/text()').extract()\n",
      "            item['STL'] = game.select('./td[17]/div/text()').extract()\n",
      "            item['BLK'] = game.select('./td[18]/div/text()').extract()\n",
      "            item['FOULS'] = game.select('./td[19]/div/text()').extract()\n",
      "            items.append(item)\n",
      "        return items"
     ],
     "language": "python",
     "metadata": {},
     "outputs": [
      {
       "ename": "ImportError",
       "evalue": "No module named bball.items",
       "output_type": "pyerr",
       "traceback": [
        "\u001b[0;31m---------------------------------------------------------------------------\u001b[0m\n\u001b[0;31mImportError\u001b[0m                               Traceback (most recent call last)",
        "\u001b[0;32m<ipython-input-1-078ab885ed33>\u001b[0m in \u001b[0;36m<module>\u001b[0;34m()\u001b[0m\n\u001b[1;32m      2\u001b[0m \u001b[0;32mfrom\u001b[0m \u001b[0mscrapy\u001b[0m\u001b[0;34m.\u001b[0m\u001b[0mcontrib\u001b[0m\u001b[0;34m.\u001b[0m\u001b[0mlinkextractors\u001b[0m\u001b[0;34m.\u001b[0m\u001b[0msgml\u001b[0m \u001b[0;32mimport\u001b[0m \u001b[0mSgmlLinkExtractor\u001b[0m\u001b[0;34m\u001b[0m\u001b[0m\n\u001b[1;32m      3\u001b[0m \u001b[0;32mfrom\u001b[0m \u001b[0mscrapy\u001b[0m\u001b[0;34m.\u001b[0m\u001b[0mselector\u001b[0m \u001b[0;32mimport\u001b[0m \u001b[0mHtmlXPathSelector\u001b[0m\u001b[0;34m\u001b[0m\u001b[0m\n\u001b[0;32m----> 4\u001b[0;31m \u001b[0;32mfrom\u001b[0m \u001b[0mbball\u001b[0m\u001b[0;34m.\u001b[0m\u001b[0mitems\u001b[0m \u001b[0;32mimport\u001b[0m \u001b[0mBballItem\u001b[0m\u001b[0;34m\u001b[0m\u001b[0m\n\u001b[0m\u001b[1;32m      5\u001b[0m \u001b[0;34m\u001b[0m\u001b[0m\n\u001b[1;32m      6\u001b[0m \u001b[0;32mclass\u001b[0m \u001b[0mStatSpider\u001b[0m\u001b[0;34m(\u001b[0m\u001b[0mCrawlSpider\u001b[0m\u001b[0;34m)\u001b[0m\u001b[0;34m:\u001b[0m\u001b[0;34m\u001b[0m\u001b[0m\n",
        "\u001b[0;31mImportError\u001b[0m: No module named bball.items"
       ]
      }
     ],
     "prompt_number": 1
    },
    {
     "cell_type": "code",
     "collapsed": false,
     "input": [],
     "language": "python",
     "metadata": {},
     "outputs": []
    }
   ],
   "metadata": {}
  }
 ]
}